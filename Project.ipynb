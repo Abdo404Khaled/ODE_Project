{
 "cells": [
  {
   "cell_type": "code",
   "execution_count": 1,
   "id": "fc993902-bd62-4535-9f4c-6e66767b0b1c",
   "metadata": {},
   "outputs": [],
   "source": [
    "from module import solving_differential_equation as solver"
   ]
  },
  {
   "cell_type": "code",
   "execution_count": 2,
   "id": "0940bd4f-5cac-4dec-8e71-bd3dd09b863d",
   "metadata": {},
   "outputs": [],
   "source": [
    "from sympy import *\n",
    "from sympy.abc import x"
   ]
  },
  {
   "cell_type": "code",
   "execution_count": 3,
   "id": "273a8bf5-8a4b-4efc-a4c6-f79598a97444",
   "metadata": {},
   "outputs": [
    {
     "data": {
      "text/latex": [
       "$\\displaystyle f{\\left(x \\right)} \\frac{d}{d x} f{\\left(x \\right)} = 2 x \\sqrt{f^{2}{\\left(x \\right)} + 9}$"
      ],
      "text/plain": [
       "Eq(f(x)*Derivative(f(x), x), 2*x*sqrt(f(x)**2 + 9))"
      ]
     },
     "execution_count": 3,
     "metadata": {},
     "output_type": "execute_result"
    }
   ],
   "source": [
    "parse_expr('Eq(f(x) * diff(f(x), x), 2*x*sqrt(9+f(x)**2))')"
   ]
  },
  {
   "cell_type": "code",
   "execution_count": 4,
   "id": "d67833c9-bd15-487e-9f1e-34e1c1e51081",
   "metadata": {},
   "outputs": [
    {
     "data": {
      "text/plain": [
       "('factorable',\n",
       " 'separable',\n",
       " '1st_exact',\n",
       " '1st_power_series',\n",
       " 'lie_group',\n",
       " 'separable_Integral',\n",
       " '1st_exact_Integral')"
      ]
     },
     "execution_count": 4,
     "metadata": {},
     "output_type": "execute_result"
    }
   ],
   "source": [
    "solver(parse_expr('f(x) * diff(f(x), x)'), parse_expr('2*x*sqrt(9+f(x)**2)'))[0]"
   ]
  },
  {
   "cell_type": "code",
   "execution_count": 5,
   "id": "74ea90ca-9da9-40d4-b425-3b3cfd25d5be",
   "metadata": {},
   "outputs": [
    {
     "data": {
      "text/latex": [
       "$\\displaystyle f{\\left(x \\right)} = \\sqrt{C_{1}^{2} + 2 C_{1} x^{2} + x^{4} - 9}$"
      ],
      "text/plain": [
       "Eq(f(x), sqrt(C1**2 + 2*C1*x**2 + x**4 - 9))"
      ]
     },
     "execution_count": 5,
     "metadata": {},
     "output_type": "execute_result"
    }
   ],
   "source": [
    "solver(parse_expr('f(x) * diff(f(x), x)'), parse_expr('2*x*sqrt(9+f(x)**2)'))[1][1]"
   ]
  },
  {
   "cell_type": "code",
   "execution_count": 6,
   "id": "7aa17497-0398-4ee7-8bfc-4659b1132ed5",
   "metadata": {},
   "outputs": [
    {
     "data": {
      "text/latex": [
       "$\\displaystyle \\frac{d}{d x} f{\\left(x \\right)} = - \\frac{f^{2}{\\left(x \\right)}}{x^{2}}$"
      ],
      "text/plain": [
       "Eq(Derivative(f(x), x), -f(x)**2/x**2)"
      ]
     },
     "execution_count": 6,
     "metadata": {},
     "output_type": "execute_result"
    }
   ],
   "source": [
    "parse_expr('Eq(diff(f(x), x), -f(x)**2/x**2)')"
   ]
  },
  {
   "cell_type": "code",
   "execution_count": 7,
   "id": "780345b3-0291-48a0-a255-f5cb947c82b6",
   "metadata": {},
   "outputs": [
    {
     "data": {
      "text/plain": [
       "('separable',\n",
       " '1st_exact',\n",
       " 'Bernoulli',\n",
       " '1st_rational_riccati',\n",
       " '1st_homogeneous_coeff_best',\n",
       " '1st_homogeneous_coeff_subs_indep_div_dep',\n",
       " '1st_homogeneous_coeff_subs_dep_div_indep',\n",
       " 'lie_group',\n",
       " 'separable_Integral',\n",
       " '1st_exact_Integral',\n",
       " 'Bernoulli_Integral',\n",
       " '1st_homogeneous_coeff_subs_indep_div_dep_Integral',\n",
       " '1st_homogeneous_coeff_subs_dep_div_indep_Integral')"
      ]
     },
     "execution_count": 7,
     "metadata": {},
     "output_type": "execute_result"
    }
   ],
   "source": [
    "solver(parse_expr('diff(f(x), x)'), parse_expr('-f(x)**2/x**2'))[0]"
   ]
  },
  {
   "cell_type": "code",
   "execution_count": 8,
   "id": "ba2ac0aa-5b73-405b-a14a-d7b56387c15b",
   "metadata": {},
   "outputs": [
    {
     "data": {
      "text/latex": [
       "$\\displaystyle f{\\left(x \\right)} = - \\frac{x}{C_{1} x + 1}$"
      ],
      "text/plain": [
       "Eq(f(x), -x/(C1*x + 1))"
      ]
     },
     "execution_count": 8,
     "metadata": {},
     "output_type": "execute_result"
    }
   ],
   "source": [
    "solver(parse_expr('diff(f(x), x)'), parse_expr('-f(x)**2/x**2'))[1]"
   ]
  },
  {
   "cell_type": "code",
   "execution_count": 9,
   "id": "67c6dab8-4b6e-441f-8232-4487a14ccfe3",
   "metadata": {},
   "outputs": [
    {
     "data": {
      "text/latex": [
       "$\\displaystyle f{\\left(x \\right)} = - \\frac{x}{1 - 3.0 x}$"
      ],
      "text/plain": [
       "Eq(f(x), -x/(1 - 3.0*x))"
      ]
     },
     "execution_count": 9,
     "metadata": {},
     "output_type": "execute_result"
    }
   ],
   "source": [
    "solver(parse_expr('diff(f(x), x)'), parse_expr('-f(x)**2/x**2'), [1, 0.5])[1]"
   ]
  }
 ],
 "metadata": {
  "kernelspec": {
   "display_name": "Python 3 (ipykernel)",
   "language": "python",
   "name": "python3"
  },
  "language_info": {
   "codemirror_mode": {
    "name": "ipython",
    "version": 3
   },
   "file_extension": ".py",
   "mimetype": "text/x-python",
   "name": "python",
   "nbconvert_exporter": "python",
   "pygments_lexer": "ipython3",
   "version": "3.9.13"
  }
 },
 "nbformat": 4,
 "nbformat_minor": 5
}
